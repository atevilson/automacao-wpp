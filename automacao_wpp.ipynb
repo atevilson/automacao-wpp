{
 "cells": [
  {
   "cell_type": "code",
   "execution_count": 202,
   "id": "300cb273-b583-496a-9bb6-3e3bb988b8cd",
   "metadata": {
    "tags": []
   },
   "outputs": [],
   "source": [
    "# libs do projeto\n",
    "from selenium import webdriver\n",
    "from selenium.webdriver.common.keys import Keys\n",
    "\n",
    "import pyautogui as tempo\n",
    "import pyautogui as teclado\n",
    "\n",
    "from selenium.webdriver.common.by import By\n",
    "\n",
    "from openpyxl import load_workbook\n",
    "import os"
   ]
  },
  {
   "cell_type": "code",
   "execution_count": 203,
   "id": "1c005534-d3e7-4e17-a9b9-65aea82d9438",
   "metadata": {},
   "outputs": [],
   "source": [
    "# caminho do arquivo de contatos wpp\n",
    "contatos = 'contatos\\\\contatos.xlsx'"
   ]
  },
  {
   "cell_type": "code",
   "execution_count": 204,
   "id": "b8b6253c-94b7-4a9e-86e8-50fdd527def3",
   "metadata": {},
   "outputs": [],
   "source": [
    "# variável que recebe o caminho\n",
    "arquivo_contatos = load_workbook(contatos)"
   ]
  },
  {
   "cell_type": "code",
   "execution_count": 205,
   "id": "61c7a053-01c8-4096-811c-3b23465cff43",
   "metadata": {},
   "outputs": [],
   "source": [
    "# seleciona a célula da base de contatos wpp\n",
    "celula_ativa = arquivo_contatos['base_contatos']"
   ]
  },
  {
   "cell_type": "code",
   "execution_count": 170,
   "id": "01eb6ccd-f8d6-4701-83df-898a12dad5a0",
   "metadata": {},
   "outputs": [
    {
     "data": {
      "text/plain": [
       "'while len(navegadorWeb.find_elements(By.ID, \\'side\\')) < 1:\\n    # tempo de espera do logon da pag wpp web\\n    tempo.sleep(15)\\n\\ntempo.sleep(15)\\n\\nfor linha in range(2, len(celula_ativa[\\'A\\']) + 1):\\n    contatoWpp = celula_ativa[\\'A%s\\' % linha].value\\n    msgWpp = celula_ativa[\\'B%s\\' % linha].value\\n\\n    # localiza o path abaixo e busca pelo contato na variável \"contatoWpp\"\\n    navegadorWeb.find_element(By.XPATH, \\'//*[@id=\"side\"]/div[1]/div/div[2]/div[2]/div/div[1]\\').send_keys(contatoWpp)\\n    tempo.sleep(5)\\n\\n    # manipula a tecla enter do teclado\\n    teclado.press(\\'enter\\')\\n    tempo.sleep(5)\\n\\n    navegadorWeb.find_element(By.XPATH, \\'//*[@id=\"main\"]/footer/div[1]/div/span[2]/div/div[2]/div[1]/div/div[1]\\').send_keys(msgWpp)\\n\\n    tempo.sleep(5)\\n    teclado.press(\\'enter\\')'"
      ]
     },
     "execution_count": 170,
     "metadata": {},
     "output_type": "execute_result"
    }
   ],
   "source": [
    "while len(navegadorWeb.find_elements(By.ID, 'side')) < 1:\n",
    "    # tempo de espera do logon da pag wpp web\n",
    "    tempo.sleep(5)\n",
    "\n",
    "tempo.sleep(5)\n",
    "\n",
    "for linha in range(2, len(celula_ativa['A']) + 1):\n",
    "    contatoWpp = celula_ativa['A%s' % linha].value\n",
    "    msgWpp = celula_ativa['B%s' % linha].value\n",
    "\n",
    "    # localiza o path abaixo e busca pelo contato na variável \"contatoWpp\"\n",
    "    navegadorWeb.find_element(By.XPATH, '//*[@id=\"side\"]/div[1]/div/div[2]/div[2]/div/div[1]').send_keys(contatoWpp)\n",
    "    tempo.sleep(1)\n",
    "\n",
    "    # manipula a tecla enter do teclado\n",
    "    teclado.press('enter')\n",
    "    tempo.sleep(1)\n",
    "\n",
    "    navegadorWeb.find_element(By.XPATH, '//*[@id=\"main\"]/footer/div[1]/div/span[2]/div/div[2]/div[1]/div/div[1]').send_keys(msgWpp)\n",
    "\n",
    "    tempo.sleep(1)\n",
    "    teclado.press('enter')"
   ]
  },
  {
   "cell_type": "code",
   "execution_count": 206,
   "id": "9497e084-78ba-46be-8bcc-85410440cb00",
   "metadata": {},
   "outputs": [],
   "source": [
    "# acessando o navegador\n",
    "navegadorWeb = webdriver.Chrome()\n",
    "navegadorWeb.get('https://web.whatsapp.com/')\n",
    "\n",
    "# envio de foto com msg de texto\n",
    "while len(navegadorWeb.find_elements(By.ID, 'side')) < 1:\n",
    "    # tempo de espera do logon da pag wpp web\n",
    "    tempo.sleep(5)\n",
    "\n",
    "tempo.sleep(5)\n",
    "\n",
    "foto = os.path.abspath('imagens\\\\craft.png')\n",
    "\n",
    "for linha in range(2, len(celula_ativa['A']) + 1):\n",
    "    contatoWpp = celula_ativa['A%s' % linha].value\n",
    "    msgWpp = celula_ativa['B%s' % linha].value\n",
    "\n",
    "    # localiza o path abaixo e busca pelo contato na variável \"contatoWpp\"\n",
    "    pesquisa_contato = navegadorWeb.find_element(By.XPATH, '//*[@id=\"side\"]/div[1]/div/div[2]/div[2]/div/div[1]')\n",
    "    tempo.sleep(5)\n",
    "    pesquisa_contato.clear()  # limpa a caixa de pesquisa de contatos\n",
    "    pesquisa_contato.send_keys(contatoWpp)\n",
    "\n",
    "    # manipula a tecla enter do teclado\n",
    "    teclado.press('enter')\n",
    "    tempo.sleep(1)\n",
    "\n",
    "    # seleciona o botão de anexo\n",
    "    navegadorWeb.find_elements(By.CSS_SELECTOR, \"span[data-icon='attach-menu-plus']\")\n",
    "\n",
    "    tempo.sleep(1)\n",
    "\n",
    "    navegadorWeb.find_element(By.CSS_SELECTOR, \"span[data-icon='attach-menu-plus']\").click()\n",
    "\n",
    "    # clica no botão para anexar\n",
    "    tipoDeAnexo = navegadorWeb.find_element(By.CSS_SELECTOR, \"input[type='file']\")\n",
    "\n",
    "    tempo.sleep(1)\n",
    "    \n",
    "    tipoDeAnexo.send_keys(foto)\n",
    "\n",
    "    tempo.sleep(1)\n",
    "\n",
    "    navegadorWeb.find_element(By.XPATH, '//*[@id=\"app\"]/div/div/div[3]/div[2]/span/div/span/div/div/div[2]/div/div[1]/div[3]/div/div/div[1]/div[1]/p').send_keys(msgWpp)\n",
    "\n",
    "    tempo.sleep(2)\n",
    "    teclado.press('enter')"
   ]
  }
 ],
 "metadata": {
  "kernelspec": {
   "display_name": "Python 3 (ipykernel)",
   "language": "python",
   "name": "python3"
  },
  "language_info": {
   "codemirror_mode": {
    "name": "ipython",
    "version": 3
   },
   "file_extension": ".py",
   "mimetype": "text/x-python",
   "name": "python",
   "nbconvert_exporter": "python",
   "pygments_lexer": "ipython3",
   "version": "3.12.0"
  }
 },
 "nbformat": 4,
 "nbformat_minor": 5
}
